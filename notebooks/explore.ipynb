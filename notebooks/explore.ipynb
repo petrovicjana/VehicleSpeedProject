{
 "cells": [
  {
   "cell_type": "code",
   "execution_count": 19,
   "id": "53b20969",
   "metadata": {},
   "outputs": [
    {
     "name": "stdout",
     "output_type": "stream",
     "text": [
      "FPS: 30.0, Resolution: 1920 * 1080\n"
     ]
    },
    {
     "ename": "AttributeError",
     "evalue": "module 'cv2' has no attribute 'VideoWrtiter_fourcc'",
     "output_type": "error",
     "traceback": [
      "\u001b[1;31m---------------------------------------------------------------------------\u001b[0m",
      "\u001b[1;31mAttributeError\u001b[0m                            Traceback (most recent call last)",
      "Cell \u001b[1;32mIn[19], line 10\u001b[0m\n\u001b[0;32m      8\u001b[0m fps, width, height \u001b[38;5;241m=\u001b[39m get_video_info(video_path)\n\u001b[0;32m      9\u001b[0m \u001b[38;5;28mprint\u001b[39m(\u001b[38;5;124mf\u001b[39m\u001b[38;5;124m'\u001b[39m\u001b[38;5;124mFPS: \u001b[39m\u001b[38;5;132;01m{\u001b[39;00mfps\u001b[38;5;132;01m}\u001b[39;00m\u001b[38;5;124m, Resolution: \u001b[39m\u001b[38;5;132;01m{\u001b[39;00mwidth\u001b[38;5;132;01m}\u001b[39;00m\u001b[38;5;124m * \u001b[39m\u001b[38;5;132;01m{\u001b[39;00mheight\u001b[38;5;132;01m}\u001b[39;00m\u001b[38;5;124m'\u001b[39m)\n\u001b[1;32m---> 10\u001b[0m clip_path \u001b[38;5;241m=\u001b[39m \u001b[43mextract_clip\u001b[49m\u001b[43m(\u001b[49m\u001b[43mvideo_path\u001b[49m\u001b[43m,\u001b[49m\u001b[43m \u001b[49m\u001b[38;5;124;43m'\u001b[39;49m\u001b[38;5;124;43mdata/videos/test_clip.mp4\u001b[39;49m\u001b[38;5;124;43m'\u001b[39;49m\u001b[43m,\u001b[49m\u001b[43m \u001b[49m\u001b[43mstart_sec\u001b[49m\u001b[38;5;241;43m=\u001b[39;49m\u001b[38;5;241;43m0\u001b[39;49m\u001b[43m,\u001b[49m\u001b[43m \u001b[49m\u001b[43mduration_sec\u001b[49m\u001b[38;5;241;43m=\u001b[39;49m\u001b[38;5;241;43m10\u001b[39;49m\u001b[43m)\u001b[49m\n\u001b[0;32m     11\u001b[0m \u001b[38;5;28mprint\u001b[39m(\u001b[38;5;124mf\u001b[39m\u001b[38;5;124m'\u001b[39m\u001b[38;5;124mCreated test clip: \u001b[39m\u001b[38;5;132;01m{\u001b[39;00mclip_path\u001b[38;5;132;01m}\u001b[39;00m\u001b[38;5;124m'\u001b[39m)\n",
      "File \u001b[1;32mc:\\Users\\38164\\Documents\\PythonCVProjects\\VehicleSpeedProject\\notebooks\\../scripts\\preprocess.py:25\u001b[0m, in \u001b[0;36mextract_clip\u001b[1;34m(video_path, output_path, start_sec, duration_sec)\u001b[0m\n\u001b[0;32m     23\u001b[0m width \u001b[38;5;241m=\u001b[39m \u001b[38;5;28mint\u001b[39m(cap\u001b[38;5;241m.\u001b[39mget(cv2\u001b[38;5;241m.\u001b[39mCAP_PROP_FRAME_WIDTH))\n\u001b[0;32m     24\u001b[0m height \u001b[38;5;241m=\u001b[39m \u001b[38;5;28mint\u001b[39m(cap\u001b[38;5;241m.\u001b[39mget(cv2\u001b[38;5;241m.\u001b[39mCAP_PROP_FRAME_HEIGHT))\n\u001b[1;32m---> 25\u001b[0m out \u001b[38;5;241m=\u001b[39m cv2\u001b[38;5;241m.\u001b[39mVideoWriter(output_path, \u001b[43mcv2\u001b[49m\u001b[38;5;241;43m.\u001b[39;49m\u001b[43mVideoWrtiter_fourcc\u001b[49m(\u001b[38;5;241m*\u001b[39m\u001b[38;5;124m'\u001b[39m\u001b[38;5;124mmp4v\u001b[39m\u001b[38;5;124m'\u001b[39m),\n\u001b[0;32m     26\u001b[0m                       fps, (width,height))\n\u001b[0;32m     27\u001b[0m start_frame \u001b[38;5;241m=\u001b[39m \u001b[38;5;28mint\u001b[39m(start_sec \u001b[38;5;241m*\u001b[39m fps)\n\u001b[0;32m     28\u001b[0m end_frame \u001b[38;5;241m=\u001b[39m \u001b[38;5;28mint\u001b[39m((start_sec \u001b[38;5;241m+\u001b[39m duration_sec) \u001b[38;5;241m*\u001b[39m fps)\n",
      "\u001b[1;31mAttributeError\u001b[0m: module 'cv2' has no attribute 'VideoWrtiter_fourcc'"
     ]
    }
   ],
   "source": [
    "import sys\n",
    "import os\n",
    "\n",
    "sys.path.append('../scripts')\n",
    "\n",
    "from preprocess import get_video_info, extract_clip\n",
    "video_path = r'C:\\Users\\38164\\Documents\\PythonCVProjects\\VehicleSpeedProject\\data\\videos\\speed_estimation.mp4'\n",
    "fps, width, height = get_video_info(video_path)\n",
    "print(f'FPS: {fps}, Resolution: {width} * {height}')\n",
    "clip_path = extract_clip(video_path, 'data/videos/test_clip.mp4', start_sec=0, duration_sec=10)\n",
    "print(f'Created test clip: {clip_path}')\n",
    "# If using a custom video, measure a reference distance (e.g., lane width in pixels) to estimate meters per pixel."
   ]
  },
  {
   "cell_type": "code",
   "execution_count": 12,
   "id": "d12abacd",
   "metadata": {},
   "outputs": [
    {
     "name": "stdout",
     "output_type": "stream",
     "text": [
      "Current dir: c:\\Users\\38164\\Documents\\PythonCVProjects\\VehicleSpeedProject\\notebooks\n",
      "Python path: ['c:\\\\Users\\\\38164\\\\anaconda3\\\\envs\\\\yolov11_speed\\\\python38.zip', 'c:\\\\Users\\\\38164\\\\anaconda3\\\\envs\\\\yolov11_speed\\\\DLLs', 'c:\\\\Users\\\\38164\\\\anaconda3\\\\envs\\\\yolov11_speed\\\\lib', 'c:\\\\Users\\\\38164\\\\anaconda3\\\\envs\\\\yolov11_speed', '', 'c:\\\\Users\\\\38164\\\\anaconda3\\\\envs\\\\yolov11_speed\\\\lib\\\\site-packages', 'c:\\\\Users\\\\38164\\\\anaconda3\\\\envs\\\\yolov11_speed\\\\lib\\\\site-packages\\\\win32', 'c:\\\\Users\\\\38164\\\\anaconda3\\\\envs\\\\yolov11_speed\\\\lib\\\\site-packages\\\\win32\\\\lib', 'c:\\\\Users\\\\38164\\\\anaconda3\\\\envs\\\\yolov11_speed\\\\lib\\\\site-packages\\\\Pythonwin', 'c:\\\\Users\\\\38164\\\\anaconda3\\\\envs\\\\yolov11_speed\\\\lib\\\\site-packages\\\\setuptools\\\\_vendor', 'c:\\\\Users\\\\38164\\\\Documents\\\\PythonCVProjects\\\\VehicleSpeedProject']\n"
     ]
    }
   ],
   "source": [
    "print(\"Current dir:\", os.getcwd())\n",
    "print(\"Python path:\", sys.path)"
   ]
  },
  {
   "cell_type": "code",
   "execution_count": null,
   "id": "2891384f",
   "metadata": {},
   "outputs": [],
   "source": []
  }
 ],
 "metadata": {
  "kernelspec": {
   "display_name": "yolov11_speed",
   "language": "python",
   "name": "python3"
  },
  "language_info": {
   "codemirror_mode": {
    "name": "ipython",
    "version": 3
   },
   "file_extension": ".py",
   "mimetype": "text/x-python",
   "name": "python",
   "nbconvert_exporter": "python",
   "pygments_lexer": "ipython3",
   "version": "3.8.20"
  }
 },
 "nbformat": 4,
 "nbformat_minor": 5
}
