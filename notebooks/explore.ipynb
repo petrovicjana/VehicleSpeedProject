{
 "cells": [
  {
   "cell_type": "code",
   "execution_count": null,
   "id": "53b20969",
   "metadata": {},
   "outputs": [],
   "source": [
    "{\n",
    " \"cells\": [\n",
    "  {\n",
    "   \"cell_type\": \"code\",\n",
    "   \"execution_count\": null,\n",
    "   \"metadata\": {},\n",
    "   \"outputs\": [],\n",
    "   \"source\": [\n",
    "    \"from scripts.utils import VideoProcessor\\n\",\n",
    "    \"from scripts.main import process_video\\n\",\n",
    "    \"\\n\",\n",
    "    \"# Create test clip\\n\",\n",
    "    \"video_path = 'data/videos/highway_video.mp4'\\n\",\n",
    "    \"test_clip_path = 'data/videos/test_clip.mp4'\\n\",\n",
    "    \"processor = VideoProcessor(video_path)\\n\",\n",
    "    \"processor.extract_clip(test_clip_path, start_sec=0, duration_sec=10)\\n\",\n",
    "    \"processor.release()\\n\",\n",
    "    \"\\n\",\n",
    "    \"# Test YOLOv11 + DeepSORT\\n\",\n",
    "    \"output_path = 'outputs/yolo_deepsort_test.mp4'\\n\",\n",
    "    \"process_video(test_clip_path, output_path, detector_type='yolo', tracker_type='deepsort')\"\n",
    "   ]\n",
    "  }\n",
    " ],\n",
    " \"metadata\": {\n",
    "  \"kernelspec\": {\n",
    "   \"display_name\": \"Python 3\",\n",
    "   \"language\": \"python\",\n",
    "   \"name\": \"python3\"\n",
    "  },\n",
    "  \"language_info\": {\n",
    "   \"codemirror_mode\": {\n",
    "    \"name\": \"ipython\",\n",
    "    \"version\": 3\n",
    "   },\n",
    "   \"file_extension\": \".py\",\n",
    "   \"mimetype\": \"text/x-python\",\n",
    "   \"name\": \"python\",\n",
    "   \"nbconvert_exporter\": \"python\",\n",
    "   \"pygments_lexer\": \"ipython3\",\n",
    "   \"version\": \"3.8.0\"\n",
    "  }\n",
    " },\n",
    " \"nbformat\": 4,\n",
    " \"nbformat_minor\": 4\n",
    "}"
   ]
  },
  {
   "cell_type": "code",
   "execution_count": 2,
   "id": "d69077f7",
   "metadata": {},
   "outputs": [
    {
     "name": "stdout",
     "output_type": "stream",
     "text": [
      "FPS: 30.0, Resolution: 1920x1080\n"
     ]
    }
   ],
   "source": [
    "from scripts.preprocess import get_video_info\n",
    "fps, width, height = get_video_info('data/videos/test_clip.mp4')\n",
    "print(f'FPS: {fps}, Resolution: {width}x{height}')"
   ]
  },
  {
   "cell_type": "code",
   "execution_count": 4,
   "id": "d12abacd",
   "metadata": {},
   "outputs": [
    {
     "name": "stderr",
     "output_type": "stream",
     "text": [
      "Downloading https://github.com/ultralytics/assets/releases/download/v8.3.0/yolov8n.pt to 'yolov8n.pt': 100%|██████████| 6.25M/6.25M [00:01<00:00, 4.85MB/s]\n"
     ]
    },
    {
     "ename": "TypeError",
     "evalue": "'YOLODetector' object is not callable",
     "output_type": "error",
     "traceback": [
      "\u001b[31m---------------------------------------------------------------------------\u001b[39m",
      "\u001b[31mTypeError\u001b[39m                                 Traceback (most recent call last)",
      "\u001b[36mCell\u001b[39m\u001b[36m \u001b[39m\u001b[32mIn[4]\u001b[39m\u001b[32m, line 5\u001b[39m\n\u001b[32m      1\u001b[39m \u001b[38;5;28;01mfrom\u001b[39;00m\u001b[38;5;250m \u001b[39m\u001b[34;01mscripts\u001b[39;00m\u001b[34;01m.\u001b[39;00m\u001b[34;01mdetectors\u001b[39;00m\u001b[38;5;250m \u001b[39m\u001b[38;5;28;01mimport\u001b[39;00m YOLODetector\n\u001b[32m      3\u001b[39m model = YOLODetector(\u001b[33m\"\u001b[39m\u001b[33myolov8n.pt\u001b[39m\u001b[33m\"\u001b[39m)\n\u001b[32m----> \u001b[39m\u001b[32m5\u001b[39m results = model(\u001b[33m\"\u001b[39m\u001b[33mdata/videos/test_clip.mp4\u001b[39m\u001b[33m\"\u001b[39m, save=\u001b[38;5;28;01mTrue\u001b[39;00m, show=\u001b[38;5;28;01mTrue\u001b[39;00m)\n",
      "\u001b[31mTypeError\u001b[39m: 'YOLODetector' object is not callable"
     ]
    }
   ],
   "source": [
    "from scripts.detectors import YOLODetector\n",
    "\n",
    "model = YOLODetector(\"yolov8n.pt\")\n",
    "\n",
    "results = model(\"data/videos/test_clip.mp4\", save=True, show=True)\n"
   ]
  },
  {
   "cell_type": "code",
   "execution_count": null,
   "id": "2891384f",
   "metadata": {},
   "outputs": [],
   "source": []
  },
  {
   "cell_type": "code",
   "execution_count": null,
   "id": "e2150a12",
   "metadata": {},
   "outputs": [],
   "source": []
  },
  {
   "cell_type": "code",
   "execution_count": null,
   "id": "8ca05d77",
   "metadata": {},
   "outputs": [],
   "source": []
  },
  {
   "cell_type": "code",
   "execution_count": null,
   "id": "67c5254f",
   "metadata": {},
   "outputs": [],
   "source": []
  }
 ],
 "metadata": {
  "kernelspec": {
   "display_name": "yolov8_project",
   "language": "python",
   "name": "python3"
  },
  "language_info": {
   "codemirror_mode": {
    "name": "ipython",
    "version": 3
   },
   "file_extension": ".py",
   "mimetype": "text/x-python",
   "name": "python",
   "nbconvert_exporter": "python",
   "pygments_lexer": "ipython3",
   "version": "3.12.11"
  }
 },
 "nbformat": 4,
 "nbformat_minor": 5
}
